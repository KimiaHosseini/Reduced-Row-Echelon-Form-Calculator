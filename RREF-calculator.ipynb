{
 "cells": [
  {
   "cell_type": "markdown",
   "id": "7101d3d8-889e-45bb-92ea-9e763f275fdc",
   "metadata": {},
   "source": [
    "<img src=\"photos/amirkabir-uni-logo.jpg\" style=\"margin-left:auto; margin-right:auto\"/>\n",
    "<img src=\"photos/ce-logo.png\" style=\"margin-left:auto; margin-right:auto\"/>"
   ]
  },
  {
   "cell_type": "markdown",
   "id": "9a07f803-0a8f-464f-ab05-42de4900f7ce",
   "metadata": {},
   "source": [
    "<div style=\"font-size: 30px\"> <center> Linear Algebra </center></div>\n",
    "<center> fall 2023 </center>\n",
    "<center> Instructor: </center>\n",
    "<center> Dr.Ehsan Nazerfard </center> <br>\n",
    "<center> TAs: </center>\n",
    "<center> Sara Rouhani, \n",
    "Amir Hossein Poulad, \n",
    "Mohammad Heydari Rad, \n",
    "Asal Delkhosh, \n",
    "Mohammad Hossein Aref, \n",
    "Amir Mohammad Jafari, \n",
    "Samin Mahdi Pour, \n",
    "Mohammad Eshrat Abadi </center>"
   ]
  },
  {
   "cell_type": "markdown",
   "id": "2cf8e075-45c6-49bd-9250-999ad6f9628c",
   "metadata": {},
   "source": [
    "#### <div style=\"text-align: center; color: #888888; font-size: 30px\">پروژه اول درس جبر خطی کاربردی</div>\n",
    "#### <div style=\"text-align: center; color: #888888\">محاسبه جریان گذرنده از مدار های الکتریکی</div>"
   ]
  },
  {
   "cell_type": "markdown",
   "id": "68b31e01-1cb8-4454-8d98-7f75e2f94125",
   "metadata": {},
   "source": [
    "<div style=\"text-align: right\">\n",
    "در این پروژه قصد داریم به وسیله جبر خطی و قوانینی که در درس مدار های الکتریکی یاد گرفته ایم، جریان گذرنده از سیم های مدار زیر را محاسبه کنیم\n",
    "<br/><br/>\n",
    "تصویر زیر را مشاهده میکنید\n",
    "<br/>\n",
    "این تصویر نشان دهنده بخشی از یک مدار است، جهت جریان هر سیم با یک پیکان روی آن مشخص شده و برای بعضی از آن ها میزان جریان نیز به میلی آمپر نوشته شده است\n",
    "<br/>\n",
    "</div>"
   ]
  },
  {
   "cell_type": "markdown",
   "id": "cc251be7-19d9-4281-8877-154ee839384b",
   "metadata": {},
   "source": [
    "<img src=\"photos/flow.png\" style=\"margin-left:auto; margin-right:auto\"/>"
   ]
  },
  {
   "cell_type": "markdown",
   "id": "b4ff437d-cf4f-413c-b93a-5cb245ecdede",
   "metadata": {},
   "source": [
    "<div style=\"text-align: right\">\n",
    "هدف ما این است که جریان های مجهول این بخش از مدار را پیدا کنیم\n",
    "</div>"
   ]
  },
  {
   "cell_type": "markdown",
   "id": "ccad1cc8-9c18-4328-83ec-625568968d62",
   "metadata": {},
   "source": [
    "<div style=\"text-align: right\">\n",
    "از درس مدار های الکتریکی میدانیم که مجموع جریان های ورودی به هر گره مدار صفر است\n",
    "<br/>\n",
    "گره های مدار همان نقاط زیر هستند:\n",
    "<br/>\n",
    "A, B, C, D\n",
    "</div>"
   ]
  },
  {
   "cell_type": "markdown",
   "id": "794e33d9-5cd7-483c-9681-31537d1649b0",
   "metadata": {},
   "source": [
    "<div style=\"text-align: right\">\n",
    "برای گره های نام برده شده این قانون را اعمال میکنیم\n",
    "</div>"
   ]
  },
  {
   "cell_type": "markdown",
   "id": "26164329-4524-4665-825d-666265ef4d31",
   "metadata": {},
   "source": [
    "<div>\n",
    "A:\n",
    "<br/>\n",
    "x1 + x2 = 800\n",
    "<br/>\n",
    "B:\n",
    "<br/>\n",
    "x2 - x3 + x4 = 300\n",
    "<br/>\n",
    "C:\n",
    "<br/>\n",
    "x4 + x5 = 500\n",
    "<br/>\n",
    "D:\n",
    "<br/>\n",
    "x1 + x5 = 600\n",
    "</div>"
   ]
  },
  {
   "cell_type": "markdown",
   "id": "4e119c91-2f8d-4ce4-94e3-d189ff8c779c",
   "metadata": {},
   "source": [
    "<div style=\"text-align: right\">\n",
    "ماتریس افزوده معادلات به دست آمده را مینویسیم\n",
    "</div>"
   ]
  },
  {
   "cell_type": "markdown",
   "id": "df99729e-c80b-4f34-b51f-4ce6dfb2d9ed",
   "metadata": {},
   "source": [
    "1, 1, 0, 0, 0, 800\n",
    "<br/>\n",
    "0, 1, -1, 1, 0, 300\n",
    "<br/>\n",
    "0, 0, 0, 1, 1, 500\n",
    "<br/>\n",
    "1, 0, 0, 0, 1, 600"
   ]
  },
  {
   "cell_type": "markdown",
   "id": "02340371-82ef-4ed8-b235-3934341a3566",
   "metadata": {},
   "source": [
    "<div style=\"text-align: right\">\n",
    "برای حل این مسئله، میخواهیم تابعی بنویسیم که یک ماتریس افزوده میگیرد و به فرم ماتریس نردبانی کاهش یافته در می آورد\n",
    "</div>"
   ]
  },
  {
   "cell_type": "markdown",
   "id": "5563627a-b46f-4922-a48d-926c24835a3c",
   "metadata": {},
   "source": [
    "<div style=\"text-align: right\">\n",
    "در درس جبر خطی دیده ایم که برای تبدیل یک ماتریس به فرم نردبانی کاهش یافته آن باید مراحل زیر را انجام دهیم\n",
    "<br/>\n",
    "قدم اول\n",
    "<br/>\n",
    "با جا به جایی سطر ها، کاری میکنیم که چپ ترین مدخل غیر صفر هر سطری، در زیر یا سمت راست چپ ترین مدخل غیر صفر هر سطر بالایی اش قرار بگیرد\n",
    "<br/>\n",
    "قدم دوم\n",
    "<br/>\n",
    "چپ ترین مدخل غیر صفر بالا ترین سطری که برایش شاخص در نظر نگرفته ایم را به عنوان شاخص در نظر میگیریم\n",
    "<br/>\n",
    "تمام سطر هایی که زیر این شاخص مقداری غیر صفر دارند را منهای ضریبی از سطر اول میکنیم که برابر حاصل تقسیم شاخص بر چپ ترین مدخل غیر صفر آن سطر است\n",
    "<br/>\n",
    "و اگر فرم بالا مثلثی به هم خورد به قدم اول میرویم\n",
    "<br/>\n",
    "قدم سوم\n",
    "<br/>\n",
    "تمامی سطر های دارای شاخص را بر مقدار شاخصشان تقسیم میکنیم\n",
    "<br/>\n",
    "قدم چهارم\n",
    "<br/>\n",
    "هر سطری که بالا سر شاخصی مدخلی غیر صفر دارد را منهای حاصل ضرب آن مدخل در سطر آن شاخص میکنیم تا مدخل های بالای هر شاخص صفر بشود\n",
    "</div>"
   ]
  },
  {
   "cell_type": "markdown",
   "id": "cc845f4b-c97e-4ac7-b422-86c536d42b04",
   "metadata": {},
   "source": [
    "<div style=\"text-align: right; color: red\">\n",
    "توجه: شما باید کدی بنویسید که هر ماتریس افزوده ای را به فرم نردبانی کاهش یافته ببرد، نه صرفا ماتریس افزوده این مدار الکتریکی، و باید بتوان ماتریس افزوده را به آن ورودی داد و خروجی را مشاهده کرد\n",
    "</div>"
   ]
  },
  {
   "cell_type": "markdown",
   "id": "f6a52e3c-e867-43ab-9590-a8775064add5",
   "metadata": {},
   "source": [
    "<div style=\"text-align: right; color: red\">\n",
    "توجه: اصراری بر استفاده از کد های  زیر نیست، میتوانید آنطور که میخواهید آن ها را تغییر دهید، توابع جدید اضافه کنید یا حذفشان کنید و کد های خود را بنویسید، صرفا باید در نهایت تابعی داشته باشید که بتوان به آن ماتریس افزوده داد و آن به فرم ماتریس نردبانی کاهش یافته در بیاورد و نمایش دهد\n",
    "</div>"
   ]
  },
  {
   "cell_type": "markdown",
   "id": "3c6d8d8d-5239-494c-ad1a-776800f152c8",
   "metadata": {},
   "source": [
    "<div style=\"text-align: right; color: red\">\n",
    "توجه: لطفا کد ها را تا حد امکان کامنت گذاری کنید و توضیح دهید\n",
    "</div>"
   ]
  },
  {
   "cell_type": "markdown",
   "id": "b77ab49f-8d77-4468-9abe-f34bed7b8299",
   "metadata": {},
   "source": [
    "<div style=\"text-align: right; color: green\">\n",
    "در صورت وجود هرگونه ابهام، از طریق ایمیل تدریسیاری سوال خود را بپرسید</br>\n",
    "linearalgebra.fall1401@gmail.com</div>"
   ]
  },
  {
   "cell_type": "markdown",
   "id": "fa4aaf79",
   "metadata": {},
   "source": [
    "<div style=\"text-align: right; color: green\">\n",
    "پاسخ خود را در قالب فایلی با نام زیر آپلود کنید</br>\n",
    "P1_Name_StudentNumber.ipynb</div>"
   ]
  },
  {
   "cell_type": "code",
   "execution_count": 29,
   "id": "420d1334-d334-406c-a2f7-446eccd6a0c8",
   "metadata": {},
   "outputs": [
    {
     "name": "stdout",
     "output_type": "stream",
     "text": [
      "Requirement already satisfied: numpy in c:\\users\\lenovo\\anaconda3\\lib\\site-packages (1.21.5)\n"
     ]
    }
   ],
   "source": [
    "! pip install numpy"
   ]
  },
  {
   "cell_type": "code",
   "execution_count": 30,
   "id": "107f9bc8-934f-47da-96a9-340bc2ae3e35",
   "metadata": {},
   "outputs": [],
   "source": [
    "import numpy as np\n",
    "tol = 1e-10"
   ]
  },
  {
   "cell_type": "markdown",
   "id": "5d5b4208-d925-4307-8a66-1c40d6c903b3",
   "metadata": {},
   "source": [
    "<div style=\"text-align: right\">\n",
    "برای این کار در ابتدا باید توابعی را پیاده سازی کنیم که عملیات کاهش سطری را انجام میدهند\n",
    "</div>"
   ]
  },
  {
   "cell_type": "markdown",
   "id": "e6fe59c3-7aa8-4a1b-91ef-d675d676aad4",
   "metadata": {},
   "source": [
    "<div style=\"text-align: right\">\n",
    "جا به جایی دو سطر\n",
    "<br/>\n",
    "این تابع یک ماتریس و اندیس دو سطر را میگیرد و آن دو سطر را در آن ماتریس جا به جا میکند\n",
    "</div>"
   ]
  },
  {
   "cell_type": "code",
   "execution_count": 43,
   "id": "9b40bb9d-dca8-4cbf-9c8e-f2f140ebb5f8",
   "metadata": {},
   "outputs": [],
   "source": [
    "def interchange(matrix, first_row_index, second_row_index):\n",
    "#     interchange two given rows\n",
    "    matrix[[first_row_index, second_row_index]] = matrix[[second_row_index, first_row_index]]"
   ]
  },
  {
   "cell_type": "markdown",
   "id": "fd4d9b78-7445-4e3a-8482-ccfd064d2c36",
   "metadata": {},
   "source": [
    "<div style=\"text-align: right\">\n",
    "تقسیم سطر بر یک عدد\n",
    "<br/>\n",
    "این تابع یک ماتریس و اندیس سطر و یک عدد میگیرد و تمام درایه های آن سطر را به آن عدد تقسیم میکند\n",
    "</div>"
   ]
  },
  {
   "cell_type": "code",
   "execution_count": 44,
   "id": "4ca00743-3ce8-434b-b285-80ee3ef331b1",
   "metadata": {},
   "outputs": [],
   "source": [
    "def divide_row_by_scalar(matrix, row_index, scalar):\n",
    "#     divide entries of a row by given scalar\n",
    "    return np.divide(matrix[row_index], scalar)"
   ]
  },
  {
   "cell_type": "markdown",
   "id": "84a2ba26",
   "metadata": {},
   "source": [
    "<div style=\"text-align: right\">\n",
    "ضرب سطر در یک عدد\n",
    "<br/>\n",
    "این تابع یک ماتریس و اندیس سطر و یک عدد میگیرد و تمام درایه های آن سطر را در آن عدد ضرب میکند\n",
    "</div>"
   ]
  },
  {
   "cell_type": "code",
   "execution_count": 45,
   "id": "1d0d4ca7",
   "metadata": {},
   "outputs": [],
   "source": [
    "def multiply_row_by_scalar(matrix, row_index, scalar):\n",
    "#     multiply entries of a row to given scalar\n",
    "    return np.multiply(matrix[row_index], scalar)"
   ]
  },
  {
   "cell_type": "markdown",
   "id": "cc31c066-ffa3-4a60-a3ee-872ccbecd042",
   "metadata": {},
   "source": [
    "<div style=\"text-align: right\">\n",
    "تفریق یک سطر با ضریبی از سطر دیگر\n",
    "<br/>\n",
    "این تابع یک ماتریس و اندیس دو سطر و یک عدد را میگیرد و حاصل ضرب دومی در عدد را از سطر اول کم میکند و به جای سطر اول میگذارد\n",
    "</div>"
   ]
  },
  {
   "cell_type": "code",
   "execution_count": 46,
   "id": "e719b858-b388-4b27-a6e8-bd57cef28049",
   "metadata": {},
   "outputs": [],
   "source": [
    "def replace(matrix, first_row_index, second_row_index, scalar):\n",
    "    matrix[first_row_index] = matrix[first_row_index] - multiply_row_by_scalar(matrix, second_row_index, scalar)"
   ]
  },
  {
   "cell_type": "markdown",
   "id": "94c4b016-0f3b-44b8-a72d-b3671d0021fe",
   "metadata": {},
   "source": [
    "<div style=\"text-align: right\">\n",
    "قدم اول و پیدا کردن pivot positions\n",
    "</div>"
   ]
  },
  {
   "cell_type": "code",
   "execution_count": 47,
   "id": "413279c1-31c3-4eca-83e4-88c7e5f56823",
   "metadata": {},
   "outputs": [],
   "source": [
    "def upper_triangle_form_and_pivots(matrix):\n",
    "    row_index = 0\n",
    "    num_columns = matrix.shape[1]\n",
    "    num_rows = matrix.shape[0]\n",
    "    #     store pivot positions in pivot array\n",
    "    pivots = []\n",
    "    #     iterate on columns and find first element of a column that is not zero then\n",
    "    #     interchange its row with row_index that is the row index that we are searching pivot for it\n",
    "    for i in range(num_columns):\n",
    "        #         all rows are ok\n",
    "        if row_index == matrix.shape[0]:\n",
    "            break\n",
    "\n",
    "        column_i = matrix[:, i]\n",
    "        for j in range(row_index, num_rows):\n",
    "            if column_i[j] != 0:\n",
    "                interchange(matrix, row_index, j)\n",
    "                pivots.append([row_index, i])\n",
    "                #                 now this row is ok so we add 1 to it\n",
    "                row_index += 1\n",
    "                break\n",
    "    return pivots"
   ]
  },
  {
   "cell_type": "markdown",
   "id": "d3ce1764-96f4-4621-a274-65dd5ec4e0a8",
   "metadata": {},
   "source": [
    "<div style=\"text-align: right\">\n",
    "قدم دوم\n",
    "</div>"
   ]
  },
  {
   "cell_type": "code",
   "execution_count": 48,
   "id": "5b79ce64-d7d8-404e-8266-8c43d220ec29",
   "metadata": {},
   "outputs": [],
   "source": [
    "# make entries below of a pivot zero\n",
    "def subtract_scaled_pivot_row_from_rows_below(matrix, pivots):\n",
    "    #     iterate on pivots and check all entries below it, if they were nonzero make it zero with replace method\n",
    "    for pivot_position in pivots:\n",
    "        for i in range(pivot_position[0] + 1, matrix.shape[0]):\n",
    "            if matrix[i][pivot_position[1]] != 0:\n",
    "                replace(matrix, i, pivot_position[0],\n",
    "                        matrix[i][pivot_position[1]] / matrix[pivot_position[0]][pivot_position[1]])\n",
    "\n",
    "    #     to make sure again convert it to triangle form\n",
    "    return upper_triangle_form_and_pivots(matrix)"
   ]
  },
  {
   "cell_type": "markdown",
   "id": "c5f1600c-7907-441d-9f79-dcc375df918f",
   "metadata": {},
   "source": [
    "<div style=\"text-align: right\">\n",
    "قدم سوم\n",
    "</div>"
   ]
  },
  {
   "cell_type": "code",
   "execution_count": 49,
   "id": "6ada3980-83a3-4746-9c3d-c653c4d4a75e",
   "metadata": {},
   "outputs": [],
   "source": [
    "# divide rows by their pivot entries to make all pivot values 1\n",
    "def divide_rows_by_their_pivot_entries(matrix, pivots):\n",
    "    for pivot in pivots:\n",
    "        matrix[pivot[0]] = divide_row_by_scalar(matrix, pivot[0], matrix[pivot[0]][pivot[1]])"
   ]
  },
  {
   "cell_type": "markdown",
   "id": "1143ed9b-d96c-4cb9-bfc1-bcd34909cf52",
   "metadata": {},
   "source": [
    "<div style=\"text-align: right\">\n",
    "قدم چهارم\n",
    "</div>"
   ]
  },
  {
   "cell_type": "code",
   "execution_count": 50,
   "id": "573f8b72-8956-4ba0-9b74-903ba576e940",
   "metadata": {},
   "outputs": [],
   "source": [
    "# make entries above of each pivot zero\n",
    "def subtract_scaled_pivot_row_from_rows_above(matrix, pivots):\n",
    "    for pivot in pivots:\n",
    "        for i in range(pivot[0] - 1, -1, -1):\n",
    "            if i < 0:\n",
    "                break\n",
    "            if matrix[i][pivot[1]] != 0:\n",
    "                replace(matrix, i, pivot[0], matrix[i][pivot[1]] / matrix[pivot[0]][pivot[1]])"
   ]
  },
  {
   "cell_type": "markdown",
   "id": "ad8ca9c3-0ba1-4516-928c-ee3b33f2a06d",
   "metadata": {},
   "source": [
    "<div style=\"text-align: right\">\n",
    "تابع نهایی: این تابع ماتریس افزوده را میگیرد و به فرم نردبانی کاهش یافته در می آورد و خروجی را برمیگرداند\n",
    "</div>"
   ]
  },
  {
   "cell_type": "code",
   "execution_count": 51,
   "id": "1667eddd-cf9f-4717-9292-b52dd5e71bb7",
   "metadata": {},
   "outputs": [],
   "source": [
    "def reduced_echelon_form(augmented_matrix):\n",
    "    #     convert entries to longdouble\n",
    "    augmented_matrix = augmented_matrix.astype(np.longdouble)\n",
    "    #     make it reduced echelon form\n",
    "    pivots = upper_triangle_form_and_pivots(augmented_matrix)\n",
    "    pivots = subtract_scaled_pivot_row_from_rows_below(augmented_matrix, pivots)\n",
    "    divide_rows_by_their_pivot_entries(augmented_matrix, pivots)\n",
    "    subtract_scaled_pivot_row_from_rows_above(augmented_matrix, pivots)\n",
    "    #     round it in a way that if it is smaller than tol make it zero\n",
    "    augmented_matrix.real[abs(augmented_matrix.real) < tol] = 0.0\n",
    "    return augmented_matrix"
   ]
  },
  {
   "cell_type": "markdown",
   "id": "2b55bee9-f70d-43e6-bc66-6ab72cd985d6",
   "metadata": {},
   "source": [
    "<div style=\"text-align: right\">\n",
    "تست تابع با ماتریس افزوده توصیف شده\n",
    "</div>"
   ]
  },
  {
   "cell_type": "code",
   "execution_count": 53,
   "id": "18903197-1934-40cc-89af-710f51c1dbac",
   "metadata": {},
   "outputs": [
    {
     "name": "stdout",
     "output_type": "stream",
     "text": [
      "[[  1.   0.   0.   0.   1. 600.]\n",
      " [  0.   1.   0.   0.  -1. 200.]\n",
      " [  0.   0.   1.   0.   0. 400.]\n",
      " [  0.   0.   0.   1.   1. 500.]]\n"
     ]
    }
   ],
   "source": [
    "augmented_matrix = np.array([\n",
    "    [1, 1, 0, 0, 0, 800],\n",
    "    [0, 1, -1, 1, 0, 300],\n",
    "    [0, 0, 0, 1, 1, 500],\n",
    "    [1, 0, 0, 0, 1, 600]\n",
    "])\n",
    "test = np.array([\n",
    "    [0, 1, 5, -4],\n",
    "    [1, 4, 3, -2],\n",
    "    [2, 7, 1, -2]\n",
    "])\n",
    "test1 = np.array([\n",
    "    [2, 0, -6, 8],\n",
    "    [0, 1, 2, 3],\n",
    "    [3, 6, -2, -4]\n",
    "])\n",
    "test2 = np.array([\n",
    "    [1, 4, 7, 0],\n",
    "    [2, 5, 8, 0],\n",
    "    [3, 6, 9, 0]\n",
    "])\n",
    "test3 = np.array([\n",
    "    [40.543677, 76.621599, 14.610784, 23.334928, 83.347119],\n",
    "    [88.206170, 35.211003, 82.973952, 67.427483, 84.639442],\n",
    "    [10.116170, 90.252630, 14.369531, 82.252769, 30.430778],\n",
    "    [60.631609, 56.553448, 17.243585, 61.737453, 40.757826],\n",
    "    [24.522159, 38.365846, 40.851396, 18.420055, 20.534812]\n",
    "])\n",
    "test4 = np.array([\n",
    "    [98.08, 79.36, 21.06, 40.49, 39.10],\n",
    "    [79.25, 89.30, 11.01, 43.31, 49.63],\n",
    "    [85.76, 95.37, 26.30, 73.92, 32.43],\n",
    "    [46.76, 38.00, 32.13, 46.03, 78.18],\n",
    "    [95.80, 60.94, 69.28, 84.71, 48.57]\n",
    "])\n",
    "test5 = np.array([\n",
    "    [44.311, 27.828, 91.499, 24.511, 18.736],\n",
    "    [33.178, 96.371, 88.894, 39.656, 55.242],\n",
    "    [97.732, 68.836, 26.070, 22.280, 95.357],\n",
    "    [41.091, 66.550, 72.356, 18.420, 78.056],\n",
    "    [52.656, 69.025, 17.642, 21.768, 65.583]\n",
    "])\n",
    "test6 = np.array([\n",
    "    [79, 58, 31, 46, 61],\n",
    "    [49, 52, 76, 33, 19]\n",
    "])\n",
    "test7 = np.array([\n",
    "    [50, 77],\n",
    "    [60, 77],\n",
    "    [32, 13],\n",
    "    [45, 68],\n",
    "    [72, 71]\n",
    "])\n",
    "test8 = np.array([\n",
    "    [0, 1],\n",
    "    [1, 1]\n",
    "])\n",
    "print(reduced_echelon_form(augmented_matrix))"
   ]
  },
  {
   "cell_type": "code",
   "execution_count": null,
   "id": "2aa02f8a",
   "metadata": {},
   "outputs": [],
   "source": []
  }
 ],
 "metadata": {
  "kernelspec": {
   "display_name": "Python 3 (ipykernel)",
   "language": "python",
   "name": "python3"
  },
  "language_info": {
   "codemirror_mode": {
    "name": "ipython",
    "version": 3
   },
   "file_extension": ".py",
   "mimetype": "text/x-python",
   "name": "python",
   "nbconvert_exporter": "python",
   "pygments_lexer": "ipython3",
   "version": "3.9.12"
  }
 },
 "nbformat": 4,
 "nbformat_minor": 5
}
